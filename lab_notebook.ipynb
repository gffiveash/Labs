{
  "cells": [
    {
      "cell_type": "markdown",
      "metadata": {
        "id": "IU2Oe2lgy3XV"
      },
      "source": [
        "# Web Scraping\n",
        "\n",
        "Last time, we looked at REST API's as a source of data. You can get lots of very high quality data this way.\n",
        "\n",
        "Some data is available online, but not through an API. When this is the case, some times you can simply copy and paste the data into a .csv file and go on with your life. But if there are many records to parse and combine into a dataset, that might be impossible. Can we automate the collection of data from online sources?\n",
        "\n",
        "This is called web scraping. Broadly speaking: Web scraping is legal, but what you plan to do with the results of your scraping might not be. In general, most sites do not want you to scrape them at this point, but there is not really a way to stop you if you are sufficiently motivated. Be careful to use server resources respectfully (not too many requests per unit time), think seriously about privacy concerns, and be careful who you share your work with."
      ]
    },
    {
      "cell_type": "markdown",
      "metadata": {
        "id": "ui3HNFVXy3XX"
      },
      "source": [
        "We'll be scraping data about used cars in Charlottesville from Craigslist. This will give us a chance to put those wrangling, EDA, and visualization skills to work.\n",
        "\n",
        "We'll use the `requests` package, as we did with API's, but will be getting the kinds of web pages you see everyday. Again, we'll use a header with a user-agent that masks our true identity so that we're not rejected by the server. This particular url points to the car listings for Craigslist in Charlottesville."
      ]
    },
    {
      "cell_type": "markdown",
      "metadata": {
        "id": "a8yVtKAxy3XY"
      },
      "source": [
        "## 1. Pick something else on Craigslist: Musical instruments, roommates, antiques, etc. Look at the search page and its source code. Record which fields/data you would like to gather, and what kinds of EDA you'd do with it. I look at used cars below."
      ]
    },
    {
      "cell_type": "code",
      "execution_count": 7,
      "metadata": {
        "id": "bT63yifry3XX"
      },
      "outputs": [],
      "source": [
        "import numpy as np\n",
        "import matplotlib.pyplot as plt\n",
        "import pandas as pd\n",
        "import seaborn as sns\n",
        "\n",
        "import requests # Page requests\n",
        "\n",
        "header = {'User-Agent': 'Mozilla/5.0 (Windows NT 10.0; Win64; x64; rv:124.0) Gecko/20100101 Firefox/124.0'}\n",
        "url = 'https://washingtondc.craigslist.org/search/jwa?purveyor=owner#search=1~gallery~0~23'\n",
        "raw = requests.get(url,headers=header) # Get page"
      ]
    },
    {
      "cell_type": "markdown",
      "metadata": {
        "id": "GS1XkRlXy3XX"
      },
      "source": [
        "Now that we have that particular page available locally, we want to **parse** it and get results from it. To do that, we can use a package called `beautifulSoup` or `bs4`.\n",
        "\n",
        "What does `beautifulSoup` do for us? Let's go to the web page of interest. You probably see something like this:\n",
        "\n",
        "![Listings](craigslist.png \"Craigslist\")\n",
        "\n",
        "But if you \"view page source\" -- which is CTRL+U -- in Chrome, you see what the computer sees:\n",
        "\n",
        "![Listings](craigslist_source.png \"Craigslist\")\n",
        "\n",
        "Since your web browser needs lots of instructions about how to render the text, pictures, and other content on your web page, there are a lot of clues about where the data live and how to extricate them from a page. These clues are called **tags**. If you wander the source for the search page on cars, you see a particular `class = \"cl-static-search-result\"` term appear attached to each listing:\n",
        "\n",
        "![Listings](listing.png \"Craigslist\")\n",
        "\n",
        "This structure can be exploited to search the page for information. This kind of detective work -- looking at the page source, finding the interesting tages, and then searching the page with `beautifulSoup` -- is the basic job of web scraping."
      ]
    },
    {
      "cell_type": "markdown",
      "metadata": {
        "id": "NiO-E2wuy3XZ"
      },
      "source": [
        "## 2. Get your search results of interest and extract data from them, using code similar to what's below."
      ]
    },
    {
      "cell_type": "markdown",
      "metadata": {
        "id": "fEO2NpZ8y3XY"
      },
      "source": [
        "The following code chunk takes the raw content from `requests` and turns it into a beautifulSoup object, which can search the page and return results for us:"
      ]
    },
    {
      "cell_type": "code",
      "execution_count": 8,
      "metadata": {
        "id": "lllobrYIy3XY"
      },
      "outputs": [],
      "source": [
        "from bs4 import BeautifulSoup as soup # HTML parser\n",
        "bsObj = soup(raw.content,'html.parser') # Parse the html\n",
        "listings = bsObj.find_all(class_=\"cl-static-search-result\") # Find all listings"
      ]
    },
    {
      "cell_type": "markdown",
      "metadata": {
        "id": "ymO8JbMmy3XY"
      },
      "source": [
        "Why is the argument `class_` and not just `class`? The word `class` is a reserved keyword for Python, and cannot be used by anyone else, similar to `True` and `False`. But since we want the `class = \"cl-static-search-result\"` terms, we need to use the `class_` argument to the `.find_all` method.\n",
        "\n",
        "The `.find_all` function dredges the entire page and finds all the instances of `class = \"cl-static-search-result\"`, resulting in a list of entries. We can then parse the entries.\n",
        "\n",
        "For each listing, we'll use the `.find` method to search within the listing record for specific information. To get the information we want, we can then use `.get_text()`.\n",
        "\n",
        "In the code below, two more things happen.\n",
        "\n",
        "First, I would like to get the brand of the car from the post title, if possible. To do this, I split the title into words using `title.split()`, and then I use a list comprehension to look over every word in the title and check whether it appears in the `brands` list.\n",
        "\n",
        "Second, I would like to get the year the car was built, so I can determine the vehicle's age. To do this, I use a thing called **regular expressions** that provides a language for expressing patterns. Do I remember how to do this off the top of my head? No, I read a few pages in a book and looked on StackOverflow for answers. Roughly, in order to express the idea \"any year starting with 20xx,\" you can write `20[0-9][0-9]`, and for \"any year starting with 19xx,\" you can write `19[0-9][0-9]`. The `[0-9]`'s act as wildcards for any digit. This allows me to use the `re` package to find any instances of year-like numbers in the title text, using `re.search(r'20[0-9][0-9]|19[0-9][0-9]', title )`.\n",
        "\n",
        "This is all nested in a for-loop over the listings, and the data is appended to a list."
      ]
    },
    {
      "cell_type": "code",
      "execution_count": 20,
      "metadata": {
        "id": "jw-U4BA-y3XY"
      },
      "outputs": [],
      "source": [
        "import re # Regular expressions\n",
        "\n",
        "types = ['watch', 'watches','earrings','ring','rings','pendant','necklace',\n",
        "         'necklaces','brooch','jeep','jewelry box', 'bracelet', 'bracelets']\n",
        "\n",
        "data = [] # We'll save our listings in this object\n",
        "for k in range( len(listings) ):\n",
        "    title = listings[k].find('div',class_='title').get_text().lower()\n",
        "    price = listings[k].find('div',class_='price').get_text()\n",
        "    location = listings[k].find('div',class_='location').get_text()\n",
        "    link = listings[k].find(href=True)['href']\n",
        "    # Get jewelry type from the title string:\n",
        "    words = title.split()\n",
        "    hits = [word for word in words if word in types] # Find jewelry type in the title\n",
        "    if len(hits) == 0:\n",
        "        type = 'missing'\n",
        "    else:\n",
        "        type = hits[0]\n",
        "    # Get years from title string:\n",
        "    regex_search = re.search(r'20[0-9][0-9]|19[0-9][0-9]', title ) # Find year references\n",
        "    if regex_search is None: # If no hits, record year as missing value\n",
        "        year = np.nan\n",
        "    else: # If hits, record year as first match\n",
        "        year = regex_search.group(0)\n",
        "    #\n",
        "    data.append({'title':title,'price':price,'location':location,'year':year,'link':link,'type':type})"
      ]
    },
    {
      "cell_type": "markdown",
      "metadata": {
        "id": "v8TjNu6uy3Xa"
      },
      "source": [
        "## 3. Wrangle your data, do some EDA, and make some plots. Try to find some interesting relationships or stories to tell about your data."
      ]
    },
    {
      "cell_type": "markdown",
      "metadata": {
        "id": "Mz4zVi80y3XZ"
      },
      "source": [
        "\n",
        "With the data scraped from Craigslist, we can put it in a dataframe and wrangle it. Of course, price and year come in as text, not numbers, and need to be typecast/coerced:"
      ]
    },
    {
      "cell_type": "code",
      "execution_count": 21,
      "metadata": {
        "id": "KY1njgHcy3XZ",
        "outputId": "9b49eca9-b103-4cc7-fe2c-71febbee02b4",
        "colab": {
          "base_uri": "https://localhost:8080/",
          "height": 1000
        }
      },
      "outputs": [
        {
          "output_type": "stream",
          "name": "stdout",
          "text": [
            "(354, 7)\n"
          ]
        },
        {
          "output_type": "execute_result",
          "data": {
            "text/plain": [
              "                                                title  price  \\\n",
              "0   seiko 7n42-8089 in great cond with new batt ke...     50   \n",
              "1   citizen 5930-s10981 elegance gold tone; gorgeo...     40   \n",
              "2   vtg seiko women’s 26mm quartz watch 1n00-0a29 ...     40   \n",
              "3   vtg seiko 3y03-0160 [a4] watch gold tone day d...     25   \n",
              "4           new-bee kind-you are my sunshine necklace     10   \n",
              "5   brand new silver band men’s tourneau watch wit...    300   \n",
              "6   brand new black display face men’s tourneau wa...    300   \n",
              "7          brand new men’s tourneau watch new picture    350   \n",
              "8                                        rolex 116233  10500   \n",
              "9                                     new men's watch    360   \n",
              "10                                    new men's watch    360   \n",
              "11  new! rare! safi kilima necklace + tanzanite pe...      0   \n",
              "12  blancpain x swatch bioceramic scuba fifty fathoms    500   \n",
              "13                              shell necklaces(each)      5   \n",
              "14  gucci ladies watch, gold metal band ,square fa...    300   \n",
              "\n",
              "                                             location  year  \\\n",
              "0                           Olney, MD             ...   NaN   \n",
              "1                           OLNEY, MD             ...   NaN   \n",
              "2                           Olney, MD             ...   NaN   \n",
              "3                           OLNEY, MD             ...   NaN   \n",
              "4                           Haymarket             ...   NaN   \n",
              "5                           maryland              ...   NaN   \n",
              "6                           maryland              ...   NaN   \n",
              "7                           Gaithersburg          ...   NaN   \n",
              "8                           Chantilly             ...   NaN   \n",
              "9                           Silver Spring         ...   NaN   \n",
              "10                          Silver Spring         ...   NaN   \n",
              "11                          Gaithersburg / Shady G...   NaN   \n",
              "12                          Cabin John            ...   NaN   \n",
              "13                          maryland              ...   NaN   \n",
              "14                          northern virginia     ...   NaN   \n",
              "\n",
              "                                                 link      type  age  \n",
              "0   https://washingtondc.craigslist.org/mld/jwl/d/...   missing  NaN  \n",
              "1   https://washingtondc.craigslist.org/mld/jwl/d/...   missing  NaN  \n",
              "2   https://washingtondc.craigslist.org/mld/jwl/d/...     watch  NaN  \n",
              "3   https://washingtondc.craigslist.org/mld/jwl/d/...     watch  NaN  \n",
              "4   https://washingtondc.craigslist.org/nva/jwl/d/...  necklace  NaN  \n",
              "5   https://washingtondc.craigslist.org/mld/jwl/d/...     watch  NaN  \n",
              "6   https://washingtondc.craigslist.org/mld/jwl/d/...     watch  NaN  \n",
              "7   https://washingtondc.craigslist.org/mld/jwl/d/...     watch  NaN  \n",
              "8   https://washingtondc.craigslist.org/nva/jwl/d/...   missing  NaN  \n",
              "9   https://washingtondc.craigslist.org/mld/jwl/d/...     watch  NaN  \n",
              "10  https://washingtondc.craigslist.org/mld/jwl/d/...     watch  NaN  \n",
              "11  https://washingtondc.craigslist.org/mld/jwl/d/...  necklace  NaN  \n",
              "12  https://washingtondc.craigslist.org/mld/jwl/d/...   missing  NaN  \n",
              "13  https://washingtondc.craigslist.org/mld/jwl/d/...   missing  NaN  \n",
              "14  https://washingtondc.craigslist.org/nva/jwl/d/...   missing  NaN  "
            ],
            "text/html": [
              "\n",
              "  <div id=\"df-91ef9897-ce22-4507-a03f-565891b881e6\" class=\"colab-df-container\">\n",
              "    <div>\n",
              "<style scoped>\n",
              "    .dataframe tbody tr th:only-of-type {\n",
              "        vertical-align: middle;\n",
              "    }\n",
              "\n",
              "    .dataframe tbody tr th {\n",
              "        vertical-align: top;\n",
              "    }\n",
              "\n",
              "    .dataframe thead th {\n",
              "        text-align: right;\n",
              "    }\n",
              "</style>\n",
              "<table border=\"1\" class=\"dataframe\">\n",
              "  <thead>\n",
              "    <tr style=\"text-align: right;\">\n",
              "      <th></th>\n",
              "      <th>title</th>\n",
              "      <th>price</th>\n",
              "      <th>location</th>\n",
              "      <th>year</th>\n",
              "      <th>link</th>\n",
              "      <th>type</th>\n",
              "      <th>age</th>\n",
              "    </tr>\n",
              "  </thead>\n",
              "  <tbody>\n",
              "    <tr>\n",
              "      <th>0</th>\n",
              "      <td>seiko 7n42-8089 in great cond with new batt ke...</td>\n",
              "      <td>50</td>\n",
              "      <td>Olney, MD             ...</td>\n",
              "      <td>NaN</td>\n",
              "      <td>https://washingtondc.craigslist.org/mld/jwl/d/...</td>\n",
              "      <td>missing</td>\n",
              "      <td>NaN</td>\n",
              "    </tr>\n",
              "    <tr>\n",
              "      <th>1</th>\n",
              "      <td>citizen 5930-s10981 elegance gold tone; gorgeo...</td>\n",
              "      <td>40</td>\n",
              "      <td>OLNEY, MD             ...</td>\n",
              "      <td>NaN</td>\n",
              "      <td>https://washingtondc.craigslist.org/mld/jwl/d/...</td>\n",
              "      <td>missing</td>\n",
              "      <td>NaN</td>\n",
              "    </tr>\n",
              "    <tr>\n",
              "      <th>2</th>\n",
              "      <td>vtg seiko women’s 26mm quartz watch 1n00-0a29 ...</td>\n",
              "      <td>40</td>\n",
              "      <td>Olney, MD             ...</td>\n",
              "      <td>NaN</td>\n",
              "      <td>https://washingtondc.craigslist.org/mld/jwl/d/...</td>\n",
              "      <td>watch</td>\n",
              "      <td>NaN</td>\n",
              "    </tr>\n",
              "    <tr>\n",
              "      <th>3</th>\n",
              "      <td>vtg seiko 3y03-0160 [a4] watch gold tone day d...</td>\n",
              "      <td>25</td>\n",
              "      <td>OLNEY, MD             ...</td>\n",
              "      <td>NaN</td>\n",
              "      <td>https://washingtondc.craigslist.org/mld/jwl/d/...</td>\n",
              "      <td>watch</td>\n",
              "      <td>NaN</td>\n",
              "    </tr>\n",
              "    <tr>\n",
              "      <th>4</th>\n",
              "      <td>new-bee kind-you are my sunshine necklace</td>\n",
              "      <td>10</td>\n",
              "      <td>Haymarket             ...</td>\n",
              "      <td>NaN</td>\n",
              "      <td>https://washingtondc.craigslist.org/nva/jwl/d/...</td>\n",
              "      <td>necklace</td>\n",
              "      <td>NaN</td>\n",
              "    </tr>\n",
              "    <tr>\n",
              "      <th>5</th>\n",
              "      <td>brand new silver band men’s tourneau watch wit...</td>\n",
              "      <td>300</td>\n",
              "      <td>maryland              ...</td>\n",
              "      <td>NaN</td>\n",
              "      <td>https://washingtondc.craigslist.org/mld/jwl/d/...</td>\n",
              "      <td>watch</td>\n",
              "      <td>NaN</td>\n",
              "    </tr>\n",
              "    <tr>\n",
              "      <th>6</th>\n",
              "      <td>brand new black display face men’s tourneau wa...</td>\n",
              "      <td>300</td>\n",
              "      <td>maryland              ...</td>\n",
              "      <td>NaN</td>\n",
              "      <td>https://washingtondc.craigslist.org/mld/jwl/d/...</td>\n",
              "      <td>watch</td>\n",
              "      <td>NaN</td>\n",
              "    </tr>\n",
              "    <tr>\n",
              "      <th>7</th>\n",
              "      <td>brand new men’s tourneau watch new picture</td>\n",
              "      <td>350</td>\n",
              "      <td>Gaithersburg          ...</td>\n",
              "      <td>NaN</td>\n",
              "      <td>https://washingtondc.craigslist.org/mld/jwl/d/...</td>\n",
              "      <td>watch</td>\n",
              "      <td>NaN</td>\n",
              "    </tr>\n",
              "    <tr>\n",
              "      <th>8</th>\n",
              "      <td>rolex 116233</td>\n",
              "      <td>10500</td>\n",
              "      <td>Chantilly             ...</td>\n",
              "      <td>NaN</td>\n",
              "      <td>https://washingtondc.craigslist.org/nva/jwl/d/...</td>\n",
              "      <td>missing</td>\n",
              "      <td>NaN</td>\n",
              "    </tr>\n",
              "    <tr>\n",
              "      <th>9</th>\n",
              "      <td>new men's watch</td>\n",
              "      <td>360</td>\n",
              "      <td>Silver Spring         ...</td>\n",
              "      <td>NaN</td>\n",
              "      <td>https://washingtondc.craigslist.org/mld/jwl/d/...</td>\n",
              "      <td>watch</td>\n",
              "      <td>NaN</td>\n",
              "    </tr>\n",
              "    <tr>\n",
              "      <th>10</th>\n",
              "      <td>new men's watch</td>\n",
              "      <td>360</td>\n",
              "      <td>Silver Spring         ...</td>\n",
              "      <td>NaN</td>\n",
              "      <td>https://washingtondc.craigslist.org/mld/jwl/d/...</td>\n",
              "      <td>watch</td>\n",
              "      <td>NaN</td>\n",
              "    </tr>\n",
              "    <tr>\n",
              "      <th>11</th>\n",
              "      <td>new! rare! safi kilima necklace + tanzanite pe...</td>\n",
              "      <td>0</td>\n",
              "      <td>Gaithersburg / Shady G...</td>\n",
              "      <td>NaN</td>\n",
              "      <td>https://washingtondc.craigslist.org/mld/jwl/d/...</td>\n",
              "      <td>necklace</td>\n",
              "      <td>NaN</td>\n",
              "    </tr>\n",
              "    <tr>\n",
              "      <th>12</th>\n",
              "      <td>blancpain x swatch bioceramic scuba fifty fathoms</td>\n",
              "      <td>500</td>\n",
              "      <td>Cabin John            ...</td>\n",
              "      <td>NaN</td>\n",
              "      <td>https://washingtondc.craigslist.org/mld/jwl/d/...</td>\n",
              "      <td>missing</td>\n",
              "      <td>NaN</td>\n",
              "    </tr>\n",
              "    <tr>\n",
              "      <th>13</th>\n",
              "      <td>shell necklaces(each)</td>\n",
              "      <td>5</td>\n",
              "      <td>maryland              ...</td>\n",
              "      <td>NaN</td>\n",
              "      <td>https://washingtondc.craigslist.org/mld/jwl/d/...</td>\n",
              "      <td>missing</td>\n",
              "      <td>NaN</td>\n",
              "    </tr>\n",
              "    <tr>\n",
              "      <th>14</th>\n",
              "      <td>gucci ladies watch, gold metal band ,square fa...</td>\n",
              "      <td>300</td>\n",
              "      <td>northern virginia     ...</td>\n",
              "      <td>NaN</td>\n",
              "      <td>https://washingtondc.craigslist.org/nva/jwl/d/...</td>\n",
              "      <td>missing</td>\n",
              "      <td>NaN</td>\n",
              "    </tr>\n",
              "  </tbody>\n",
              "</table>\n",
              "</div>\n",
              "    <div class=\"colab-df-buttons\">\n",
              "\n",
              "  <div class=\"colab-df-container\">\n",
              "    <button class=\"colab-df-convert\" onclick=\"convertToInteractive('df-91ef9897-ce22-4507-a03f-565891b881e6')\"\n",
              "            title=\"Convert this dataframe to an interactive table.\"\n",
              "            style=\"display:none;\">\n",
              "\n",
              "  <svg xmlns=\"http://www.w3.org/2000/svg\" height=\"24px\" viewBox=\"0 -960 960 960\">\n",
              "    <path d=\"M120-120v-720h720v720H120Zm60-500h600v-160H180v160Zm220 220h160v-160H400v160Zm0 220h160v-160H400v160ZM180-400h160v-160H180v160Zm440 0h160v-160H620v160ZM180-180h160v-160H180v160Zm440 0h160v-160H620v160Z\"/>\n",
              "  </svg>\n",
              "    </button>\n",
              "\n",
              "  <style>\n",
              "    .colab-df-container {\n",
              "      display:flex;\n",
              "      gap: 12px;\n",
              "    }\n",
              "\n",
              "    .colab-df-convert {\n",
              "      background-color: #E8F0FE;\n",
              "      border: none;\n",
              "      border-radius: 50%;\n",
              "      cursor: pointer;\n",
              "      display: none;\n",
              "      fill: #1967D2;\n",
              "      height: 32px;\n",
              "      padding: 0 0 0 0;\n",
              "      width: 32px;\n",
              "    }\n",
              "\n",
              "    .colab-df-convert:hover {\n",
              "      background-color: #E2EBFA;\n",
              "      box-shadow: 0px 1px 2px rgba(60, 64, 67, 0.3), 0px 1px 3px 1px rgba(60, 64, 67, 0.15);\n",
              "      fill: #174EA6;\n",
              "    }\n",
              "\n",
              "    .colab-df-buttons div {\n",
              "      margin-bottom: 4px;\n",
              "    }\n",
              "\n",
              "    [theme=dark] .colab-df-convert {\n",
              "      background-color: #3B4455;\n",
              "      fill: #D2E3FC;\n",
              "    }\n",
              "\n",
              "    [theme=dark] .colab-df-convert:hover {\n",
              "      background-color: #434B5C;\n",
              "      box-shadow: 0px 1px 3px 1px rgba(0, 0, 0, 0.15);\n",
              "      filter: drop-shadow(0px 1px 2px rgba(0, 0, 0, 0.3));\n",
              "      fill: #FFFFFF;\n",
              "    }\n",
              "  </style>\n",
              "\n",
              "    <script>\n",
              "      const buttonEl =\n",
              "        document.querySelector('#df-91ef9897-ce22-4507-a03f-565891b881e6 button.colab-df-convert');\n",
              "      buttonEl.style.display =\n",
              "        google.colab.kernel.accessAllowed ? 'block' : 'none';\n",
              "\n",
              "      async function convertToInteractive(key) {\n",
              "        const element = document.querySelector('#df-91ef9897-ce22-4507-a03f-565891b881e6');\n",
              "        const dataTable =\n",
              "          await google.colab.kernel.invokeFunction('convertToInteractive',\n",
              "                                                    [key], {});\n",
              "        if (!dataTable) return;\n",
              "\n",
              "        const docLinkHtml = 'Like what you see? Visit the ' +\n",
              "          '<a target=\"_blank\" href=https://colab.research.google.com/notebooks/data_table.ipynb>data table notebook</a>'\n",
              "          + ' to learn more about interactive tables.';\n",
              "        element.innerHTML = '';\n",
              "        dataTable['output_type'] = 'display_data';\n",
              "        await google.colab.output.renderOutput(dataTable, element);\n",
              "        const docLink = document.createElement('div');\n",
              "        docLink.innerHTML = docLinkHtml;\n",
              "        element.appendChild(docLink);\n",
              "      }\n",
              "    </script>\n",
              "  </div>\n",
              "\n",
              "\n",
              "<div id=\"df-c106c6fc-219f-4d63-9a6b-3132f75317f0\">\n",
              "  <button class=\"colab-df-quickchart\" onclick=\"quickchart('df-c106c6fc-219f-4d63-9a6b-3132f75317f0')\"\n",
              "            title=\"Suggest charts\"\n",
              "            style=\"display:none;\">\n",
              "\n",
              "<svg xmlns=\"http://www.w3.org/2000/svg\" height=\"24px\"viewBox=\"0 0 24 24\"\n",
              "     width=\"24px\">\n",
              "    <g>\n",
              "        <path d=\"M19 3H5c-1.1 0-2 .9-2 2v14c0 1.1.9 2 2 2h14c1.1 0 2-.9 2-2V5c0-1.1-.9-2-2-2zM9 17H7v-7h2v7zm4 0h-2V7h2v10zm4 0h-2v-4h2v4z\"/>\n",
              "    </g>\n",
              "</svg>\n",
              "  </button>\n",
              "\n",
              "<style>\n",
              "  .colab-df-quickchart {\n",
              "      --bg-color: #E8F0FE;\n",
              "      --fill-color: #1967D2;\n",
              "      --hover-bg-color: #E2EBFA;\n",
              "      --hover-fill-color: #174EA6;\n",
              "      --disabled-fill-color: #AAA;\n",
              "      --disabled-bg-color: #DDD;\n",
              "  }\n",
              "\n",
              "  [theme=dark] .colab-df-quickchart {\n",
              "      --bg-color: #3B4455;\n",
              "      --fill-color: #D2E3FC;\n",
              "      --hover-bg-color: #434B5C;\n",
              "      --hover-fill-color: #FFFFFF;\n",
              "      --disabled-bg-color: #3B4455;\n",
              "      --disabled-fill-color: #666;\n",
              "  }\n",
              "\n",
              "  .colab-df-quickchart {\n",
              "    background-color: var(--bg-color);\n",
              "    border: none;\n",
              "    border-radius: 50%;\n",
              "    cursor: pointer;\n",
              "    display: none;\n",
              "    fill: var(--fill-color);\n",
              "    height: 32px;\n",
              "    padding: 0;\n",
              "    width: 32px;\n",
              "  }\n",
              "\n",
              "  .colab-df-quickchart:hover {\n",
              "    background-color: var(--hover-bg-color);\n",
              "    box-shadow: 0 1px 2px rgba(60, 64, 67, 0.3), 0 1px 3px 1px rgba(60, 64, 67, 0.15);\n",
              "    fill: var(--button-hover-fill-color);\n",
              "  }\n",
              "\n",
              "  .colab-df-quickchart-complete:disabled,\n",
              "  .colab-df-quickchart-complete:disabled:hover {\n",
              "    background-color: var(--disabled-bg-color);\n",
              "    fill: var(--disabled-fill-color);\n",
              "    box-shadow: none;\n",
              "  }\n",
              "\n",
              "  .colab-df-spinner {\n",
              "    border: 2px solid var(--fill-color);\n",
              "    border-color: transparent;\n",
              "    border-bottom-color: var(--fill-color);\n",
              "    animation:\n",
              "      spin 1s steps(1) infinite;\n",
              "  }\n",
              "\n",
              "  @keyframes spin {\n",
              "    0% {\n",
              "      border-color: transparent;\n",
              "      border-bottom-color: var(--fill-color);\n",
              "      border-left-color: var(--fill-color);\n",
              "    }\n",
              "    20% {\n",
              "      border-color: transparent;\n",
              "      border-left-color: var(--fill-color);\n",
              "      border-top-color: var(--fill-color);\n",
              "    }\n",
              "    30% {\n",
              "      border-color: transparent;\n",
              "      border-left-color: var(--fill-color);\n",
              "      border-top-color: var(--fill-color);\n",
              "      border-right-color: var(--fill-color);\n",
              "    }\n",
              "    40% {\n",
              "      border-color: transparent;\n",
              "      border-right-color: var(--fill-color);\n",
              "      border-top-color: var(--fill-color);\n",
              "    }\n",
              "    60% {\n",
              "      border-color: transparent;\n",
              "      border-right-color: var(--fill-color);\n",
              "    }\n",
              "    80% {\n",
              "      border-color: transparent;\n",
              "      border-right-color: var(--fill-color);\n",
              "      border-bottom-color: var(--fill-color);\n",
              "    }\n",
              "    90% {\n",
              "      border-color: transparent;\n",
              "      border-bottom-color: var(--fill-color);\n",
              "    }\n",
              "  }\n",
              "</style>\n",
              "\n",
              "  <script>\n",
              "    async function quickchart(key) {\n",
              "      const quickchartButtonEl =\n",
              "        document.querySelector('#' + key + ' button');\n",
              "      quickchartButtonEl.disabled = true;  // To prevent multiple clicks.\n",
              "      quickchartButtonEl.classList.add('colab-df-spinner');\n",
              "      try {\n",
              "        const charts = await google.colab.kernel.invokeFunction(\n",
              "            'suggestCharts', [key], {});\n",
              "      } catch (error) {\n",
              "        console.error('Error during call to suggestCharts:', error);\n",
              "      }\n",
              "      quickchartButtonEl.classList.remove('colab-df-spinner');\n",
              "      quickchartButtonEl.classList.add('colab-df-quickchart-complete');\n",
              "    }\n",
              "    (() => {\n",
              "      let quickchartButtonEl =\n",
              "        document.querySelector('#df-c106c6fc-219f-4d63-9a6b-3132f75317f0 button');\n",
              "      quickchartButtonEl.style.display =\n",
              "        google.colab.kernel.accessAllowed ? 'block' : 'none';\n",
              "    })();\n",
              "  </script>\n",
              "</div>\n",
              "\n",
              "    </div>\n",
              "  </div>\n"
            ],
            "application/vnd.google.colaboratory.intrinsic+json": {
              "type": "dataframe",
              "variable_name": "df",
              "summary": "{\n  \"name\": \"df\",\n  \"rows\": 354,\n  \"fields\": [\n    {\n      \"column\": \"title\",\n      \"properties\": {\n        \"dtype\": \"string\",\n        \"num_unique_values\": 307,\n        \"samples\": [\n          \"rolex oyster perpetual date\",\n          \"elgin gold plated pocket watch\",\n          \"vintage gold leaf containing venetian glass bead necklace\"\n        ],\n        \"semantic_type\": \"\",\n        \"description\": \"\"\n      }\n    },\n    {\n      \"column\": \"price\",\n      \"properties\": {\n        \"dtype\": \"number\",\n        \"std\": 65677,\n        \"min\": 0,\n        \"max\": 1234567,\n        \"num_unique_values\": 82,\n        \"samples\": [\n          150,\n          50,\n          250\n        ],\n        \"semantic_type\": \"\",\n        \"description\": \"\"\n      }\n    },\n    {\n      \"column\": \"location\",\n      \"properties\": {\n        \"dtype\": \"category\",\n        \"num_unique_values\": 83,\n        \"samples\": [\n          \"                        Hyattsville, MD                    \",\n          \"                        Olney, MD                    \",\n          \"                        Herndon                    \"\n        ],\n        \"semantic_type\": \"\",\n        \"description\": \"\"\n      }\n    },\n    {\n      \"column\": \"year\",\n      \"properties\": {\n        \"dtype\": \"number\",\n        \"std\": 22.113173093032675,\n        \"min\": 1928.0,\n        \"max\": 2003.0,\n        \"num_unique_values\": 11,\n        \"samples\": [\n          2003.0,\n          1967.0,\n          1979.0\n        ],\n        \"semantic_type\": \"\",\n        \"description\": \"\"\n      }\n    },\n    {\n      \"column\": \"link\",\n      \"properties\": {\n        \"dtype\": \"string\",\n        \"num_unique_values\": 354,\n        \"samples\": [\n          \"https://washingtondc.craigslist.org/nva/jwl/d/fairfax-sterling-silver-cuff-bracelet/7780237836.html\",\n          \"https://washingtondc.craigslist.org/nva/jwl/d/reston-brand-new-unisex-multi-function/7789595796.html\",\n          \"https://washingtondc.craigslist.org/nva/jwl/d/vienna-crystal-pendant-with-ruby/7779738207.html\"\n        ],\n        \"semantic_type\": \"\",\n        \"description\": \"\"\n      }\n    },\n    {\n      \"column\": \"type\",\n      \"properties\": {\n        \"dtype\": \"category\",\n        \"num_unique_values\": 12,\n        \"samples\": [\n          \"rings\",\n          \"brooch\",\n          \"missing\"\n        ],\n        \"semantic_type\": \"\",\n        \"description\": \"\"\n      }\n    },\n    {\n      \"column\": \"age\",\n      \"properties\": {\n        \"dtype\": \"number\",\n        \"std\": 22.113173093032675,\n        \"min\": 22.0,\n        \"max\": 97.0,\n        \"num_unique_values\": 11,\n        \"samples\": [\n          22.0,\n          58.0,\n          46.0\n        ],\n        \"semantic_type\": \"\",\n        \"description\": \"\"\n      }\n    }\n  ]\n}"
            }
          },
          "metadata": {},
          "execution_count": 21
        }
      ],
      "source": [
        "## Wrangle the data\n",
        "df = pd.DataFrame.from_dict(data)\n",
        "df['price'] = df['price'].str.replace('$','')\n",
        "df['price'] = df['price'].str.replace(',','')\n",
        "df['price'] = pd.to_numeric(df['price'],errors='coerce')\n",
        "df['location'] = df['location'].str.replace('\\n','')\n",
        "df['year'] = pd.to_numeric(df['year'],errors='coerce')\n",
        "df['age'] = 2025-df['year']\n",
        "print(df.shape)\n",
        "df.to_csv('craigslist_cville_jewelry.csv') # Save data in case of a disaster\n",
        "df.head(15)"
      ]
    },
    {
      "cell_type": "markdown",
      "metadata": {
        "id": "YBcg4XUoy3XZ"
      },
      "source": [
        "With the data in and wrangled, we can now do EDA:"
      ]
    },
    {
      "cell_type": "markdown",
      "source": [
        "## Grayson's EDA"
      ],
      "metadata": {
        "id": "Ww4RoR7W2foF"
      }
    },
    {
      "cell_type": "code",
      "source": [
        "df.dtypes"
      ],
      "metadata": {
        "colab": {
          "base_uri": "https://localhost:8080/",
          "height": 304
        },
        "id": "RIS9_tkv229a",
        "outputId": "23915019-f5c7-4f55-bce5-ac1e926a370d"
      },
      "execution_count": 24,
      "outputs": [
        {
          "output_type": "execute_result",
          "data": {
            "text/plain": [
              "title        object\n",
              "price         int64\n",
              "location     object\n",
              "year        float64\n",
              "link         object\n",
              "type         object\n",
              "age         float64\n",
              "dtype: object"
            ],
            "text/html": [
              "<div>\n",
              "<style scoped>\n",
              "    .dataframe tbody tr th:only-of-type {\n",
              "        vertical-align: middle;\n",
              "    }\n",
              "\n",
              "    .dataframe tbody tr th {\n",
              "        vertical-align: top;\n",
              "    }\n",
              "\n",
              "    .dataframe thead th {\n",
              "        text-align: right;\n",
              "    }\n",
              "</style>\n",
              "<table border=\"1\" class=\"dataframe\">\n",
              "  <thead>\n",
              "    <tr style=\"text-align: right;\">\n",
              "      <th></th>\n",
              "      <th>0</th>\n",
              "    </tr>\n",
              "  </thead>\n",
              "  <tbody>\n",
              "    <tr>\n",
              "      <th>title</th>\n",
              "      <td>object</td>\n",
              "    </tr>\n",
              "    <tr>\n",
              "      <th>price</th>\n",
              "      <td>int64</td>\n",
              "    </tr>\n",
              "    <tr>\n",
              "      <th>location</th>\n",
              "      <td>object</td>\n",
              "    </tr>\n",
              "    <tr>\n",
              "      <th>year</th>\n",
              "      <td>float64</td>\n",
              "    </tr>\n",
              "    <tr>\n",
              "      <th>link</th>\n",
              "      <td>object</td>\n",
              "    </tr>\n",
              "    <tr>\n",
              "      <th>type</th>\n",
              "      <td>object</td>\n",
              "    </tr>\n",
              "    <tr>\n",
              "      <th>age</th>\n",
              "      <td>float64</td>\n",
              "    </tr>\n",
              "  </tbody>\n",
              "</table>\n",
              "</div><br><label><b>dtype:</b> object</label>"
            ]
          },
          "metadata": {},
          "execution_count": 24
        }
      ]
    },
    {
      "cell_type": "code",
      "source": [
        "pd.set_option('display.float_format', '{:.2f}'.format)\n",
        "df['price'].describe()"
      ],
      "metadata": {
        "colab": {
          "base_uri": "https://localhost:8080/",
          "height": 335
        },
        "id": "O04WfU6D2kVZ",
        "outputId": "905a334f-51c0-4c20-d690-1f0d734b055d"
      },
      "execution_count": 35,
      "outputs": [
        {
          "output_type": "execute_result",
          "data": {
            "text/plain": [
              "count       354.00\n",
              "mean       4255.70\n",
              "std       65677.87\n",
              "min           0.00\n",
              "25%          15.00\n",
              "50%          50.00\n",
              "75%         360.00\n",
              "max     1234567.00\n",
              "Name: price, dtype: float64"
            ],
            "text/html": [
              "<div>\n",
              "<style scoped>\n",
              "    .dataframe tbody tr th:only-of-type {\n",
              "        vertical-align: middle;\n",
              "    }\n",
              "\n",
              "    .dataframe tbody tr th {\n",
              "        vertical-align: top;\n",
              "    }\n",
              "\n",
              "    .dataframe thead th {\n",
              "        text-align: right;\n",
              "    }\n",
              "</style>\n",
              "<table border=\"1\" class=\"dataframe\">\n",
              "  <thead>\n",
              "    <tr style=\"text-align: right;\">\n",
              "      <th></th>\n",
              "      <th>price</th>\n",
              "    </tr>\n",
              "  </thead>\n",
              "  <tbody>\n",
              "    <tr>\n",
              "      <th>count</th>\n",
              "      <td>354.00</td>\n",
              "    </tr>\n",
              "    <tr>\n",
              "      <th>mean</th>\n",
              "      <td>4255.70</td>\n",
              "    </tr>\n",
              "    <tr>\n",
              "      <th>std</th>\n",
              "      <td>65677.87</td>\n",
              "    </tr>\n",
              "    <tr>\n",
              "      <th>min</th>\n",
              "      <td>0.00</td>\n",
              "    </tr>\n",
              "    <tr>\n",
              "      <th>25%</th>\n",
              "      <td>15.00</td>\n",
              "    </tr>\n",
              "    <tr>\n",
              "      <th>50%</th>\n",
              "      <td>50.00</td>\n",
              "    </tr>\n",
              "    <tr>\n",
              "      <th>75%</th>\n",
              "      <td>360.00</td>\n",
              "    </tr>\n",
              "    <tr>\n",
              "      <th>max</th>\n",
              "      <td>1234567.00</td>\n",
              "    </tr>\n",
              "  </tbody>\n",
              "</table>\n",
              "</div><br><label><b>dtype:</b> float64</label>"
            ]
          },
          "metadata": {},
          "execution_count": 35
        }
      ]
    },
    {
      "cell_type": "code",
      "source": [
        "print(df['price'].unique())\n",
        "print(df['price'].value_counts())"
      ],
      "metadata": {
        "colab": {
          "base_uri": "https://localhost:8080/"
        },
        "id": "3DkZipNP2xk0",
        "outputId": "3a13f975-5e62-462c-abb0-68c22293e2a6"
      },
      "execution_count": 47,
      "outputs": [
        {
          "output_type": "stream",
          "name": "stdout",
          "text": [
            "[     50      40      25      10     300     350   10500     360       0\n",
            "     500       5    4400      20      15      75     460     450     120\n",
            "      35    1000     750     200     250     175       8      45    8798\n",
            "    5978     100    1200     150      30       1    9500     420     400\n",
            "     900       9     550    1600     600    2000 1234567      65      36\n",
            "     800     125       6       3     140    3000   12500    7250   12850\n",
            "   16000     849     195      80      49    4900     180      59      60\n",
            "     325    3795      90   46999    4000    5000   40000     595     895\n",
            "     295     225       4      95      55     495     395      39    2500\n",
            "     590]\n",
            "price\n",
            "10       43\n",
            "360      34\n",
            "20       24\n",
            "50       21\n",
            "15       20\n",
            "         ..\n",
            "16000     1\n",
            "849       1\n",
            "5978      1\n",
            "8798      1\n",
            "590       1\n",
            "Name: count, Length: 82, dtype: int64\n"
          ]
        }
      ]
    },
    {
      "cell_type": "code",
      "source": [
        "df['price'].hist()"
      ],
      "metadata": {
        "id": "rBNdYDK8-QDH",
        "outputId": "a1c98421-31ce-410d-be25-87225f457bcf",
        "colab": {
          "base_uri": "https://localhost:8080/",
          "height": 466
        }
      },
      "execution_count": 48,
      "outputs": [
        {
          "output_type": "execute_result",
          "data": {
            "text/plain": [
              "<Axes: >"
            ]
          },
          "metadata": {},
          "execution_count": 48
        },
        {
          "output_type": "display_data",
          "data": {
            "text/plain": [
              "<Figure size 640x480 with 1 Axes>"
            ],
            "image/png": "[encoded data removed]"
          },
          "metadata": {}
        }
      ]
    },
    {
      "cell_type": "code",
      "source": [
        "df['type'].describe()"
      ],
      "metadata": {
        "colab": {
          "base_uri": "https://localhost:8080/",
          "height": 210
        },
        "id": "Ru4WYSQG3Fic",
        "outputId": "b95d712e-8ba0-49e6-d9ca-1b2d45246592"
      },
      "execution_count": 37,
      "outputs": [
        {
          "output_type": "execute_result",
          "data": {
            "text/plain": [
              "count       354\n",
              "unique       12\n",
              "top       watch\n",
              "freq        107\n",
              "Name: type, dtype: object"
            ],
            "text/html": [
              "<div>\n",
              "<style scoped>\n",
              "    .dataframe tbody tr th:only-of-type {\n",
              "        vertical-align: middle;\n",
              "    }\n",
              "\n",
              "    .dataframe tbody tr th {\n",
              "        vertical-align: top;\n",
              "    }\n",
              "\n",
              "    .dataframe thead th {\n",
              "        text-align: right;\n",
              "    }\n",
              "</style>\n",
              "<table border=\"1\" class=\"dataframe\">\n",
              "  <thead>\n",
              "    <tr style=\"text-align: right;\">\n",
              "      <th></th>\n",
              "      <th>type</th>\n",
              "    </tr>\n",
              "  </thead>\n",
              "  <tbody>\n",
              "    <tr>\n",
              "      <th>count</th>\n",
              "      <td>354</td>\n",
              "    </tr>\n",
              "    <tr>\n",
              "      <th>unique</th>\n",
              "      <td>12</td>\n",
              "    </tr>\n",
              "    <tr>\n",
              "      <th>top</th>\n",
              "      <td>watch</td>\n",
              "    </tr>\n",
              "    <tr>\n",
              "      <th>freq</th>\n",
              "      <td>107</td>\n",
              "    </tr>\n",
              "  </tbody>\n",
              "</table>\n",
              "</div><br><label><b>dtype:</b> object</label>"
            ]
          },
          "metadata": {},
          "execution_count": 37
        }
      ]
    },
    {
      "cell_type": "code",
      "source": [
        "print(df['type'].unique())\n",
        "print(df['type'].value_counts())"
      ],
      "metadata": {
        "colab": {
          "base_uri": "https://localhost:8080/"
        },
        "id": "tDxoZYiK3LTc",
        "outputId": "9f51492b-4860-4693-ddd8-02ce448e4b56"
      },
      "execution_count": 38,
      "outputs": [
        {
          "output_type": "stream",
          "name": "stdout",
          "text": [
            "['missing' 'watch' 'necklace' 'bracelet' 'pendant' 'ring' 'earrings'\n",
            " 'bracelets' 'necklaces' 'brooch' 'rings' 'watches']\n",
            "type\n",
            "watch        107\n",
            "missing      106\n",
            "necklace      46\n",
            "ring          22\n",
            "earrings      22\n",
            "pendant       21\n",
            "bracelet      11\n",
            "watches        6\n",
            "bracelets      5\n",
            "brooch         4\n",
            "necklaces      2\n",
            "rings          2\n",
            "Name: count, dtype: int64\n"
          ]
        }
      ]
    },
    {
      "cell_type": "code",
      "source": [
        "plt.hist(df['price'])"
      ],
      "metadata": {
        "colab": {
          "base_uri": "https://localhost:8080/",
          "height": 519
        },
        "id": "Lnf0HSYf4MTn",
        "outputId": "8e9113cc-7684-4787-b058-3bcb771fcaf5"
      },
      "execution_count": 46,
      "outputs": [
        {
          "output_type": "execute_result",
          "data": {
            "text/plain": [
              "(array([353.,   0.,   0.,   0.,   0.,   0.,   0.,   0.,   0.,   1.]),\n",
              " array([      0. ,  123456.7,  246913.4,  370370.1,  493826.8,  617283.5,\n",
              "         740740.2,  864196.9,  987653.6, 1111110.3, 1234567. ]),\n",
              " <BarContainer object of 10 artists>)"
            ]
          },
          "metadata": {},
          "execution_count": 46
        },
        {
          "output_type": "display_data",
          "data": {
            "text/plain": [
              "<Figure size 640x480 with 1 Axes>"
            ],
            "image/png": "[encoded data removed]"
          },
          "metadata": {}
        }
      ]
    },
    {
      "cell_type": "code",
      "source": [
        "print(df['price'].describe())\n",
        "df['price'].hist(grid=False)\n",
        "plt.show()"
      ],
      "metadata": {
        "id": "-rqJz5cX_Fb2",
        "outputId": "79387be4-c95b-411e-ef90-d7d48594ae68",
        "colab": {
          "base_uri": "https://localhost:8080/",
          "height": 609
        }
      },
      "execution_count": 49,
      "outputs": [
        {
          "output_type": "stream",
          "name": "stdout",
          "text": [
            "count       354.00\n",
            "mean       4255.70\n",
            "std       65677.87\n",
            "min           0.00\n",
            "25%          15.00\n",
            "50%          50.00\n",
            "75%         360.00\n",
            "max     1234567.00\n",
            "Name: price, dtype: float64\n"
          ]
        },
        {
          "output_type": "display_data",
          "data": {
            "text/plain": [
              "<Figure size 640x480 with 1 Axes>"
            ],
            "image/png": "[encoded data removed]"
          },
          "metadata": {}
        }
      ]
    },
    {
      "cell_type": "code",
      "source": [
        "sns.kdeplot(df['price'])"
      ],
      "metadata": {
        "id": "-p0y-yG78EKI",
        "outputId": "00441aba-16c9-4745-cbf3-ca7dd77be643",
        "colab": {
          "base_uri": "https://localhost:8080/",
          "height": 483
        }
      },
      "execution_count": 40,
      "outputs": [
        {
          "output_type": "execute_result",
          "data": {
            "text/plain": [
              "<Axes: xlabel='price', ylabel='Density'>"
            ]
          },
          "metadata": {},
          "execution_count": 40
        },
        {
          "output_type": "display_data",
          "data": {
            "text/plain": [
              "<Figure size 640x480 with 1 Axes>"
            ],
            "image/png": "[encoded data removed]"
          },
          "metadata": {}
        }
      ]
    },
    {
      "cell_type": "code",
      "source": [
        "df['price_log'] = np.log(df['price'])\n",
        "sns.kdeplot(data=df,x='price_log')"
      ],
      "metadata": {
        "id": "9sCV5nyS8VlA",
        "outputId": "2db995a8-b319-4f4d-d930-886f2e17d0f0",
        "colab": {
          "base_uri": "https://localhost:8080/",
          "height": 524
        }
      },
      "execution_count": 41,
      "outputs": [
        {
          "output_type": "stream",
          "name": "stderr",
          "text": [
            "/usr/local/lib/python3.10/dist-packages/pandas/core/arraylike.py:399: RuntimeWarning: divide by zero encountered in log\n",
            "  result = getattr(ufunc, method)(*inputs, **kwargs)\n"
          ]
        },
        {
          "output_type": "execute_result",
          "data": {
            "text/plain": [
              "<Axes: xlabel='price_log', ylabel='Density'>"
            ]
          },
          "metadata": {},
          "execution_count": 41
        },
        {
          "output_type": "display_data",
          "data": {
            "text/plain": [
              "<Figure size 640x480 with 1 Axes>"
            ],
            "image/png": "[encoded data removed]"
          },
          "metadata": {}
        }
      ]
    },
    {
      "cell_type": "code",
      "source": [
        "count=df['type'].value_counts()\n",
        "count.plot(kind='bar')"
      ],
      "metadata": {
        "colab": {
          "base_uri": "https://localhost:8080/",
          "height": 522
        },
        "id": "FME1IV483e0A",
        "outputId": "87aa1faf-cea0-49b2-adf1-fdbe44504e74"
      },
      "execution_count": 31,
      "outputs": [
        {
          "output_type": "execute_result",
          "data": {
            "text/plain": [
              "<Axes: xlabel='type'>"
            ]
          },
          "metadata": {},
          "execution_count": 31
        },
        {
          "output_type": "display_data",
          "data": {
            "text/plain": [
              "<Figure size 640x480 with 1 Axes>"
            ],
            "image/png": "[encoded data removed]"
          },
          "metadata": {}
        }
      ]
    },
    {
      "cell_type": "code",
      "source": [
        "sns.scatterplot(data=df,x='price', y='type')"
      ],
      "metadata": {
        "colab": {
          "base_uri": "https://localhost:8080/",
          "height": 467
        },
        "id": "6YjBZXIk4JaR",
        "outputId": "9585256a-672b-4f5f-85eb-a7809484e867"
      },
      "execution_count": 51,
      "outputs": [
        {
          "output_type": "execute_result",
          "data": {
            "text/plain": [
              "<Axes: xlabel='price', ylabel='type'>"
            ]
          },
          "metadata": {},
          "execution_count": 51
        },
        {
          "output_type": "display_data",
          "data": {
            "text/plain": [
              "<Figure size 640x480 with 1 Axes>"
            ],
            "image/png": "[encoded data removed]"
          },
          "metadata": {}
        }
      ]
    },
    {
      "cell_type": "markdown",
      "source": [
        "##Professor's Code"
      ],
      "metadata": {
        "id": "f8Jx_apD2dCM"
      }
    },
    {
      "cell_type": "code",
      "execution_count": null,
      "metadata": {
        "id": "qBMwX_rFy3XZ",
        "outputId": "9abfa7a7-f4fb-4563-c0f6-531f74310c3e"
      },
      "outputs": [
        {
          "name": "stdout",
          "output_type": "stream",
          "text": [
            "count       97.000000\n",
            "mean      8809.927835\n",
            "std       8124.309084\n",
            "min         10.000000\n",
            "25%       3300.000000\n",
            "50%       6000.000000\n",
            "75%      11000.000000\n",
            "max      38000.000000\n",
            "Name: price, dtype: float64\n"
          ]
        },
        {
          "data": {
            "image/png": "[encoded data removed]",
            "text/plain": [
              "<Figure size 640x480 with 1 Axes>"
            ]
          },
          "metadata": {},
          "output_type": "display_data"
        },
        {
          "name": "stdout",
          "output_type": "stream",
          "text": [
            "count    80.000000\n",
            "mean     20.737500\n",
            "std      13.378373\n",
            "min       4.000000\n",
            "25%      12.000000\n",
            "50%      18.000000\n",
            "75%      23.250000\n",
            "max      67.000000\n",
            "Name: age, dtype: float64\n"
          ]
        },
        {
          "data": {
            "image/png": "[encoded data removed]",
            "text/plain": [
              "<Figure size 640x480 with 1 Axes>"
            ]
          },
          "metadata": {},
          "output_type": "display_data"
        }
      ],
      "source": [
        "# EDA for price and age:\n",
        "print(df['price'].describe())\n",
        "df['price'].hist(grid=False)\n",
        "plt.show()\n",
        "print(df['age'].describe())\n",
        "df['age'].hist(grid=False)\n",
        "plt.show()"
      ]
    },
    {
      "cell_type": "code",
      "execution_count": null,
      "metadata": {
        "id": "xsJPUF2wy3XZ",
        "outputId": "9a613e49-3b2b-4214-9ae3-9a5f0986ff6e"
      },
      "outputs": [
        {
          "data": {
            "text/html": [
              "<div>\n",
              "<style scoped>\n",
              "    .dataframe tbody tr th:only-of-type {\n",
              "        vertical-align: middle;\n",
              "    }\n",
              "\n",
              "    .dataframe tbody tr th {\n",
              "        vertical-align: top;\n",
              "    }\n",
              "\n",
              "    .dataframe thead tr th {\n",
              "        text-align: left;\n",
              "    }\n",
              "\n",
              "    .dataframe thead tr:last-of-type th {\n",
              "        text-align: right;\n",
              "    }\n",
              "</style>\n",
              "<table border=\"1\" class=\"dataframe\">\n",
              "  <thead>\n",
              "    <tr>\n",
              "      <th></th>\n",
              "      <th colspan=\"8\" halign=\"left\">price</th>\n",
              "    </tr>\n",
              "    <tr>\n",
              "      <th></th>\n",
              "      <th>count</th>\n",
              "      <th>mean</th>\n",
              "      <th>std</th>\n",
              "      <th>min</th>\n",
              "      <th>25%</th>\n",
              "      <th>50%</th>\n",
              "      <th>75%</th>\n",
              "      <th>max</th>\n",
              "    </tr>\n",
              "    <tr>\n",
              "      <th>brand</th>\n",
              "      <th></th>\n",
              "      <th></th>\n",
              "      <th></th>\n",
              "      <th></th>\n",
              "      <th></th>\n",
              "      <th></th>\n",
              "      <th></th>\n",
              "      <th></th>\n",
              "    </tr>\n",
              "  </thead>\n",
              "  <tbody>\n",
              "    <tr>\n",
              "      <th>acura</th>\n",
              "      <td>1.0</td>\n",
              "      <td>3500.000000</td>\n",
              "      <td>NaN</td>\n",
              "      <td>3500.0</td>\n",
              "      <td>3500.00</td>\n",
              "      <td>3500.0</td>\n",
              "      <td>3500.00</td>\n",
              "      <td>3500.0</td>\n",
              "    </tr>\n",
              "    <tr>\n",
              "      <th>audi</th>\n",
              "      <td>2.0</td>\n",
              "      <td>6432.500000</td>\n",
              "      <td>7399.872465</td>\n",
              "      <td>1200.0</td>\n",
              "      <td>3816.25</td>\n",
              "      <td>6432.5</td>\n",
              "      <td>9048.75</td>\n",
              "      <td>11665.0</td>\n",
              "    </tr>\n",
              "    <tr>\n",
              "      <th>bmw</th>\n",
              "      <td>4.0</td>\n",
              "      <td>6875.000000</td>\n",
              "      <td>3065.262360</td>\n",
              "      <td>3000.0</td>\n",
              "      <td>5250.00</td>\n",
              "      <td>7250.0</td>\n",
              "      <td>8875.00</td>\n",
              "      <td>10000.0</td>\n",
              "    </tr>\n",
              "    <tr>\n",
              "      <th>buick</th>\n",
              "      <td>1.0</td>\n",
              "      <td>4500.000000</td>\n",
              "      <td>NaN</td>\n",
              "      <td>4500.0</td>\n",
              "      <td>4500.00</td>\n",
              "      <td>4500.0</td>\n",
              "      <td>4500.00</td>\n",
              "      <td>4500.0</td>\n",
              "    </tr>\n",
              "    <tr>\n",
              "      <th>chevrolet</th>\n",
              "      <td>4.0</td>\n",
              "      <td>8750.000000</td>\n",
              "      <td>5866.571969</td>\n",
              "      <td>5000.0</td>\n",
              "      <td>5750.00</td>\n",
              "      <td>6250.0</td>\n",
              "      <td>9250.00</td>\n",
              "      <td>17500.0</td>\n",
              "    </tr>\n",
              "    <tr>\n",
              "      <th>chevy</th>\n",
              "      <td>3.0</td>\n",
              "      <td>2670.000000</td>\n",
              "      <td>2303.627574</td>\n",
              "      <td>10.0</td>\n",
              "      <td>2005.00</td>\n",
              "      <td>4000.0</td>\n",
              "      <td>4000.00</td>\n",
              "      <td>4000.0</td>\n",
              "    </tr>\n",
              "    <tr>\n",
              "      <th>dodge</th>\n",
              "      <td>5.0</td>\n",
              "      <td>7100.000000</td>\n",
              "      <td>3435.112807</td>\n",
              "      <td>2000.0</td>\n",
              "      <td>6000.00</td>\n",
              "      <td>7000.0</td>\n",
              "      <td>10000.00</td>\n",
              "      <td>10500.0</td>\n",
              "    </tr>\n",
              "    <tr>\n",
              "      <th>ford</th>\n",
              "      <td>11.0</td>\n",
              "      <td>7722.272727</td>\n",
              "      <td>6643.448413</td>\n",
              "      <td>1000.0</td>\n",
              "      <td>1750.00</td>\n",
              "      <td>7250.0</td>\n",
              "      <td>11200.00</td>\n",
              "      <td>18995.0</td>\n",
              "    </tr>\n",
              "    <tr>\n",
              "      <th>gmc</th>\n",
              "      <td>4.0</td>\n",
              "      <td>5787.500000</td>\n",
              "      <td>2365.859604</td>\n",
              "      <td>3500.0</td>\n",
              "      <td>4250.00</td>\n",
              "      <td>5375.0</td>\n",
              "      <td>6912.50</td>\n",
              "      <td>8900.0</td>\n",
              "    </tr>\n",
              "    <tr>\n",
              "      <th>honda</th>\n",
              "      <td>11.0</td>\n",
              "      <td>7040.818182</td>\n",
              "      <td>3732.055381</td>\n",
              "      <td>1000.0</td>\n",
              "      <td>5000.00</td>\n",
              "      <td>5900.0</td>\n",
              "      <td>9325.00</td>\n",
              "      <td>13000.0</td>\n",
              "    </tr>\n",
              "    <tr>\n",
              "      <th>jeep</th>\n",
              "      <td>6.0</td>\n",
              "      <td>8249.166667</td>\n",
              "      <td>6926.074225</td>\n",
              "      <td>1500.0</td>\n",
              "      <td>2750.00</td>\n",
              "      <td>6997.5</td>\n",
              "      <td>11998.75</td>\n",
              "      <td>19000.0</td>\n",
              "    </tr>\n",
              "    <tr>\n",
              "      <th>kia</th>\n",
              "      <td>2.0</td>\n",
              "      <td>6500.000000</td>\n",
              "      <td>4242.640687</td>\n",
              "      <td>3500.0</td>\n",
              "      <td>5000.00</td>\n",
              "      <td>6500.0</td>\n",
              "      <td>8000.00</td>\n",
              "      <td>9500.0</td>\n",
              "    </tr>\n",
              "    <tr>\n",
              "      <th>missing</th>\n",
              "      <td>26.0</td>\n",
              "      <td>11151.884615</td>\n",
              "      <td>10189.403729</td>\n",
              "      <td>1200.0</td>\n",
              "      <td>3000.00</td>\n",
              "      <td>7000.0</td>\n",
              "      <td>16875.00</td>\n",
              "      <td>35000.0</td>\n",
              "    </tr>\n",
              "    <tr>\n",
              "      <th>mitsubishi</th>\n",
              "      <td>1.0</td>\n",
              "      <td>3500.000000</td>\n",
              "      <td>NaN</td>\n",
              "      <td>3500.0</td>\n",
              "      <td>3500.00</td>\n",
              "      <td>3500.0</td>\n",
              "      <td>3500.00</td>\n",
              "      <td>3500.0</td>\n",
              "    </tr>\n",
              "    <tr>\n",
              "      <th>subaru</th>\n",
              "      <td>4.0</td>\n",
              "      <td>8875.000000</td>\n",
              "      <td>9844.922549</td>\n",
              "      <td>2500.0</td>\n",
              "      <td>3400.00</td>\n",
              "      <td>4750.0</td>\n",
              "      <td>10225.00</td>\n",
              "      <td>23500.0</td>\n",
              "    </tr>\n",
              "    <tr>\n",
              "      <th>tesla</th>\n",
              "      <td>2.0</td>\n",
              "      <td>21450.000000</td>\n",
              "      <td>6434.671709</td>\n",
              "      <td>16900.0</td>\n",
              "      <td>19175.00</td>\n",
              "      <td>21450.0</td>\n",
              "      <td>23725.00</td>\n",
              "      <td>26000.0</td>\n",
              "    </tr>\n",
              "    <tr>\n",
              "      <th>toyota</th>\n",
              "      <td>7.0</td>\n",
              "      <td>14107.142857</td>\n",
              "      <td>14253.433170</td>\n",
              "      <td>3300.0</td>\n",
              "      <td>4100.00</td>\n",
              "      <td>7500.0</td>\n",
              "      <td>20875.00</td>\n",
              "      <td>38000.0</td>\n",
              "    </tr>\n",
              "    <tr>\n",
              "      <th>volkswagen</th>\n",
              "      <td>1.0</td>\n",
              "      <td>4950.000000</td>\n",
              "      <td>NaN</td>\n",
              "      <td>4950.0</td>\n",
              "      <td>4950.00</td>\n",
              "      <td>4950.0</td>\n",
              "      <td>4950.00</td>\n",
              "      <td>4950.0</td>\n",
              "    </tr>\n",
              "    <tr>\n",
              "      <th>volvo</th>\n",
              "      <td>2.0</td>\n",
              "      <td>2050.000000</td>\n",
              "      <td>70.710678</td>\n",
              "      <td>2000.0</td>\n",
              "      <td>2025.00</td>\n",
              "      <td>2050.0</td>\n",
              "      <td>2075.00</td>\n",
              "      <td>2100.0</td>\n",
              "    </tr>\n",
              "  </tbody>\n",
              "</table>\n",
              "</div>"
            ],
            "text/plain": [
              "           price                                                          \\\n",
              "           count          mean           std      min       25%      50%   \n",
              "brand                                                                      \n",
              "acura        1.0   3500.000000           NaN   3500.0   3500.00   3500.0   \n",
              "audi         2.0   6432.500000   7399.872465   1200.0   3816.25   6432.5   \n",
              "bmw          4.0   6875.000000   3065.262360   3000.0   5250.00   7250.0   \n",
              "buick        1.0   4500.000000           NaN   4500.0   4500.00   4500.0   \n",
              "chevrolet    4.0   8750.000000   5866.571969   5000.0   5750.00   6250.0   \n",
              "chevy        3.0   2670.000000   2303.627574     10.0   2005.00   4000.0   \n",
              "dodge        5.0   7100.000000   3435.112807   2000.0   6000.00   7000.0   \n",
              "ford        11.0   7722.272727   6643.448413   1000.0   1750.00   7250.0   \n",
              "gmc          4.0   5787.500000   2365.859604   3500.0   4250.00   5375.0   \n",
              "honda       11.0   7040.818182   3732.055381   1000.0   5000.00   5900.0   \n",
              "jeep         6.0   8249.166667   6926.074225   1500.0   2750.00   6997.5   \n",
              "kia          2.0   6500.000000   4242.640687   3500.0   5000.00   6500.0   \n",
              "missing     26.0  11151.884615  10189.403729   1200.0   3000.00   7000.0   \n",
              "mitsubishi   1.0   3500.000000           NaN   3500.0   3500.00   3500.0   \n",
              "subaru       4.0   8875.000000   9844.922549   2500.0   3400.00   4750.0   \n",
              "tesla        2.0  21450.000000   6434.671709  16900.0  19175.00  21450.0   \n",
              "toyota       7.0  14107.142857  14253.433170   3300.0   4100.00   7500.0   \n",
              "volkswagen   1.0   4950.000000           NaN   4950.0   4950.00   4950.0   \n",
              "volvo        2.0   2050.000000     70.710678   2000.0   2025.00   2050.0   \n",
              "\n",
              "                               \n",
              "                 75%      max  \n",
              "brand                          \n",
              "acura        3500.00   3500.0  \n",
              "audi         9048.75  11665.0  \n",
              "bmw          8875.00  10000.0  \n",
              "buick        4500.00   4500.0  \n",
              "chevrolet    9250.00  17500.0  \n",
              "chevy        4000.00   4000.0  \n",
              "dodge       10000.00  10500.0  \n",
              "ford        11200.00  18995.0  \n",
              "gmc          6912.50   8900.0  \n",
              "honda        9325.00  13000.0  \n",
              "jeep        11998.75  19000.0  \n",
              "kia          8000.00   9500.0  \n",
              "missing     16875.00  35000.0  \n",
              "mitsubishi   3500.00   3500.0  \n",
              "subaru      10225.00  23500.0  \n",
              "tesla       23725.00  26000.0  \n",
              "toyota      20875.00  38000.0  \n",
              "volkswagen   4950.00   4950.0  \n",
              "volvo        2075.00   2100.0  "
            ]
          },
          "execution_count": 18,
          "metadata": {},
          "output_type": "execute_result"
        }
      ],
      "source": [
        "# Price by brand:\n",
        "df.loc[:,['price','brand']].groupby('brand').describe()"
      ]
    },
    {
      "cell_type": "code",
      "execution_count": null,
      "metadata": {
        "id": "XP4Q0dIdy3Xa",
        "outputId": "883e5889-5d9f-472b-d686-12a257490c23"
      },
      "outputs": [
        {
          "data": {
            "text/html": [
              "<div>\n",
              "<style scoped>\n",
              "    .dataframe tbody tr th:only-of-type {\n",
              "        vertical-align: middle;\n",
              "    }\n",
              "\n",
              "    .dataframe tbody tr th {\n",
              "        vertical-align: top;\n",
              "    }\n",
              "\n",
              "    .dataframe thead tr th {\n",
              "        text-align: left;\n",
              "    }\n",
              "\n",
              "    .dataframe thead tr:last-of-type th {\n",
              "        text-align: right;\n",
              "    }\n",
              "</style>\n",
              "<table border=\"1\" class=\"dataframe\">\n",
              "  <thead>\n",
              "    <tr>\n",
              "      <th></th>\n",
              "      <th colspan=\"8\" halign=\"left\">age</th>\n",
              "    </tr>\n",
              "    <tr>\n",
              "      <th></th>\n",
              "      <th>count</th>\n",
              "      <th>mean</th>\n",
              "      <th>std</th>\n",
              "      <th>min</th>\n",
              "      <th>25%</th>\n",
              "      <th>50%</th>\n",
              "      <th>75%</th>\n",
              "      <th>max</th>\n",
              "    </tr>\n",
              "    <tr>\n",
              "      <th>brand</th>\n",
              "      <th></th>\n",
              "      <th></th>\n",
              "      <th></th>\n",
              "      <th></th>\n",
              "      <th></th>\n",
              "      <th></th>\n",
              "      <th></th>\n",
              "      <th></th>\n",
              "    </tr>\n",
              "  </thead>\n",
              "  <tbody>\n",
              "    <tr>\n",
              "      <th>acura</th>\n",
              "      <td>1.0</td>\n",
              "      <td>17.00</td>\n",
              "      <td>NaN</td>\n",
              "      <td>17.0</td>\n",
              "      <td>17.00</td>\n",
              "      <td>17.0</td>\n",
              "      <td>17.00</td>\n",
              "      <td>17.0</td>\n",
              "    </tr>\n",
              "    <tr>\n",
              "      <th>audi</th>\n",
              "      <td>1.0</td>\n",
              "      <td>21.00</td>\n",
              "      <td>NaN</td>\n",
              "      <td>21.0</td>\n",
              "      <td>21.00</td>\n",
              "      <td>21.0</td>\n",
              "      <td>21.00</td>\n",
              "      <td>21.0</td>\n",
              "    </tr>\n",
              "    <tr>\n",
              "      <th>bmw</th>\n",
              "      <td>2.0</td>\n",
              "      <td>12.50</td>\n",
              "      <td>2.121320</td>\n",
              "      <td>11.0</td>\n",
              "      <td>11.75</td>\n",
              "      <td>12.5</td>\n",
              "      <td>13.25</td>\n",
              "      <td>14.0</td>\n",
              "    </tr>\n",
              "    <tr>\n",
              "      <th>buick</th>\n",
              "      <td>0.0</td>\n",
              "      <td>NaN</td>\n",
              "      <td>NaN</td>\n",
              "      <td>NaN</td>\n",
              "      <td>NaN</td>\n",
              "      <td>NaN</td>\n",
              "      <td>NaN</td>\n",
              "      <td>NaN</td>\n",
              "    </tr>\n",
              "    <tr>\n",
              "      <th>chevrolet</th>\n",
              "      <td>4.0</td>\n",
              "      <td>29.50</td>\n",
              "      <td>8.962886</td>\n",
              "      <td>17.0</td>\n",
              "      <td>26.00</td>\n",
              "      <td>32.5</td>\n",
              "      <td>36.00</td>\n",
              "      <td>36.0</td>\n",
              "    </tr>\n",
              "    <tr>\n",
              "      <th>chevy</th>\n",
              "      <td>2.0</td>\n",
              "      <td>27.00</td>\n",
              "      <td>5.656854</td>\n",
              "      <td>23.0</td>\n",
              "      <td>25.00</td>\n",
              "      <td>27.0</td>\n",
              "      <td>29.00</td>\n",
              "      <td>31.0</td>\n",
              "    </tr>\n",
              "    <tr>\n",
              "      <th>dodge</th>\n",
              "      <td>2.0</td>\n",
              "      <td>36.00</td>\n",
              "      <td>21.213203</td>\n",
              "      <td>21.0</td>\n",
              "      <td>28.50</td>\n",
              "      <td>36.0</td>\n",
              "      <td>43.50</td>\n",
              "      <td>51.0</td>\n",
              "    </tr>\n",
              "    <tr>\n",
              "      <th>ford</th>\n",
              "      <td>10.0</td>\n",
              "      <td>23.50</td>\n",
              "      <td>17.494444</td>\n",
              "      <td>8.0</td>\n",
              "      <td>14.00</td>\n",
              "      <td>18.0</td>\n",
              "      <td>23.00</td>\n",
              "      <td>67.0</td>\n",
              "    </tr>\n",
              "    <tr>\n",
              "      <th>gmc</th>\n",
              "      <td>4.0</td>\n",
              "      <td>19.50</td>\n",
              "      <td>7.325754</td>\n",
              "      <td>10.0</td>\n",
              "      <td>16.00</td>\n",
              "      <td>20.5</td>\n",
              "      <td>24.00</td>\n",
              "      <td>27.0</td>\n",
              "    </tr>\n",
              "    <tr>\n",
              "      <th>honda</th>\n",
              "      <td>11.0</td>\n",
              "      <td>17.00</td>\n",
              "      <td>6.811755</td>\n",
              "      <td>10.0</td>\n",
              "      <td>11.50</td>\n",
              "      <td>17.0</td>\n",
              "      <td>20.00</td>\n",
              "      <td>33.0</td>\n",
              "    </tr>\n",
              "    <tr>\n",
              "      <th>jeep</th>\n",
              "      <td>5.0</td>\n",
              "      <td>29.00</td>\n",
              "      <td>20.211383</td>\n",
              "      <td>9.0</td>\n",
              "      <td>22.00</td>\n",
              "      <td>24.0</td>\n",
              "      <td>27.00</td>\n",
              "      <td>63.0</td>\n",
              "    </tr>\n",
              "    <tr>\n",
              "      <th>kia</th>\n",
              "      <td>2.0</td>\n",
              "      <td>12.50</td>\n",
              "      <td>4.949747</td>\n",
              "      <td>9.0</td>\n",
              "      <td>10.75</td>\n",
              "      <td>12.5</td>\n",
              "      <td>14.25</td>\n",
              "      <td>16.0</td>\n",
              "    </tr>\n",
              "    <tr>\n",
              "      <th>missing</th>\n",
              "      <td>20.0</td>\n",
              "      <td>22.15</td>\n",
              "      <td>16.556999</td>\n",
              "      <td>6.0</td>\n",
              "      <td>13.50</td>\n",
              "      <td>17.5</td>\n",
              "      <td>24.50</td>\n",
              "      <td>62.0</td>\n",
              "    </tr>\n",
              "    <tr>\n",
              "      <th>mitsubishi</th>\n",
              "      <td>1.0</td>\n",
              "      <td>19.00</td>\n",
              "      <td>NaN</td>\n",
              "      <td>19.0</td>\n",
              "      <td>19.00</td>\n",
              "      <td>19.0</td>\n",
              "      <td>19.00</td>\n",
              "      <td>19.0</td>\n",
              "    </tr>\n",
              "    <tr>\n",
              "      <th>subaru</th>\n",
              "      <td>4.0</td>\n",
              "      <td>15.00</td>\n",
              "      <td>5.354126</td>\n",
              "      <td>7.0</td>\n",
              "      <td>14.50</td>\n",
              "      <td>17.5</td>\n",
              "      <td>18.00</td>\n",
              "      <td>18.0</td>\n",
              "    </tr>\n",
              "    <tr>\n",
              "      <th>tesla</th>\n",
              "      <td>2.0</td>\n",
              "      <td>8.00</td>\n",
              "      <td>1.414214</td>\n",
              "      <td>7.0</td>\n",
              "      <td>7.50</td>\n",
              "      <td>8.0</td>\n",
              "      <td>8.50</td>\n",
              "      <td>9.0</td>\n",
              "    </tr>\n",
              "    <tr>\n",
              "      <th>toyota</th>\n",
              "      <td>6.0</td>\n",
              "      <td>12.50</td>\n",
              "      <td>7.395945</td>\n",
              "      <td>4.0</td>\n",
              "      <td>7.00</td>\n",
              "      <td>12.0</td>\n",
              "      <td>17.75</td>\n",
              "      <td>22.0</td>\n",
              "    </tr>\n",
              "    <tr>\n",
              "      <th>volkswagen</th>\n",
              "      <td>1.0</td>\n",
              "      <td>15.00</td>\n",
              "      <td>NaN</td>\n",
              "      <td>15.0</td>\n",
              "      <td>15.00</td>\n",
              "      <td>15.0</td>\n",
              "      <td>15.00</td>\n",
              "      <td>15.0</td>\n",
              "    </tr>\n",
              "    <tr>\n",
              "      <th>volvo</th>\n",
              "      <td>2.0</td>\n",
              "      <td>27.00</td>\n",
              "      <td>8.485281</td>\n",
              "      <td>21.0</td>\n",
              "      <td>24.00</td>\n",
              "      <td>27.0</td>\n",
              "      <td>30.00</td>\n",
              "      <td>33.0</td>\n",
              "    </tr>\n",
              "  </tbody>\n",
              "</table>\n",
              "</div>"
            ],
            "text/plain": [
              "             age                                                  \n",
              "           count   mean        std   min    25%   50%    75%   max\n",
              "brand                                                             \n",
              "acura        1.0  17.00        NaN  17.0  17.00  17.0  17.00  17.0\n",
              "audi         1.0  21.00        NaN  21.0  21.00  21.0  21.00  21.0\n",
              "bmw          2.0  12.50   2.121320  11.0  11.75  12.5  13.25  14.0\n",
              "buick        0.0    NaN        NaN   NaN    NaN   NaN    NaN   NaN\n",
              "chevrolet    4.0  29.50   8.962886  17.0  26.00  32.5  36.00  36.0\n",
              "chevy        2.0  27.00   5.656854  23.0  25.00  27.0  29.00  31.0\n",
              "dodge        2.0  36.00  21.213203  21.0  28.50  36.0  43.50  51.0\n",
              "ford        10.0  23.50  17.494444   8.0  14.00  18.0  23.00  67.0\n",
              "gmc          4.0  19.50   7.325754  10.0  16.00  20.5  24.00  27.0\n",
              "honda       11.0  17.00   6.811755  10.0  11.50  17.0  20.00  33.0\n",
              "jeep         5.0  29.00  20.211383   9.0  22.00  24.0  27.00  63.0\n",
              "kia          2.0  12.50   4.949747   9.0  10.75  12.5  14.25  16.0\n",
              "missing     20.0  22.15  16.556999   6.0  13.50  17.5  24.50  62.0\n",
              "mitsubishi   1.0  19.00        NaN  19.0  19.00  19.0  19.00  19.0\n",
              "subaru       4.0  15.00   5.354126   7.0  14.50  17.5  18.00  18.0\n",
              "tesla        2.0   8.00   1.414214   7.0   7.50   8.0   8.50   9.0\n",
              "toyota       6.0  12.50   7.395945   4.0   7.00  12.0  17.75  22.0\n",
              "volkswagen   1.0  15.00        NaN  15.0  15.00  15.0  15.00  15.0\n",
              "volvo        2.0  27.00   8.485281  21.0  24.00  27.0  30.00  33.0"
            ]
          },
          "execution_count": 19,
          "metadata": {},
          "output_type": "execute_result"
        }
      ],
      "source": [
        "# Age by brand:\n",
        "df.loc[:,['age','brand']].groupby('brand').describe()"
      ]
    },
    {
      "cell_type": "code",
      "execution_count": null,
      "metadata": {
        "id": "lHypfI-py3Xa",
        "outputId": "1f24c08e-e5d6-4f60-a944-e1760c3fd51d"
      },
      "outputs": [
        {
          "data": {
            "image/png": "[encoded data removed]",
            "text/plain": [
              "<Figure size 640x480 with 1 Axes>"
            ]
          },
          "metadata": {},
          "output_type": "display_data"
        }
      ],
      "source": [
        "ax = sns.scatterplot(data=df, x='age', y='price',hue='brand')\n",
        "sns.move_legend(ax, \"upper left\", bbox_to_anchor=(1, 1))"
      ]
    },
    {
      "cell_type": "code",
      "execution_count": null,
      "metadata": {
        "id": "LzFhDn50y3Xa",
        "outputId": "bd26a020-f944-4b07-f98f-40a64db9d94d"
      },
      "outputs": [
        {
          "name": "stdout",
          "output_type": "stream",
          "text": [
            "           log_price   log_age\n",
            "log_price   1.198483 -0.178625\n",
            "log_age    -0.178625  0.344903\n",
            "           log_price   log_age\n",
            "log_price   1.000000 -0.326115\n",
            "log_age    -0.326115  1.000000\n"
          ]
        },
        {
          "data": {
            "image/png": "[encoded data removed]",
            "text/plain": [
              "<Figure size 640x480 with 1 Axes>"
            ]
          },
          "metadata": {},
          "output_type": "display_data"
        }
      ],
      "source": [
        "df['log_price'] = np.log(df['price'])\n",
        "df['log_age'] = np.log(df['age'])\n",
        "\n",
        "ax = sns.scatterplot(data=df, x='log_age', y='log_price',hue='brand')\n",
        "sns.move_legend(ax, \"upper left\", bbox_to_anchor=(1, 1))\n",
        "\n",
        "print(df.loc[:,['log_price','log_age']].cov())\n",
        "print(df.loc[:,['log_price','log_age']].corr())"
      ]
    },
    {
      "cell_type": "code",
      "execution_count": null,
      "metadata": {
        "id": "9yERjzXQy3Xa",
        "outputId": "014888b7-7043-4e62-fee4-25ef1dc3f55d"
      },
      "outputs": [
        {
          "data": {
            "text/plain": [
              "<seaborn.axisgrid.JointGrid at 0x7fad29e9a050>"
            ]
          },
          "execution_count": 22,
          "metadata": {},
          "output_type": "execute_result"
        },
        {
          "data": {
            "image/png": "[encoded data removed]",
            "text/plain": [
              "<Figure size 600x600 with 3 Axes>"
            ]
          },
          "metadata": {},
          "output_type": "display_data"
        }
      ],
      "source": [
        "sns.jointplot(data=df, x='log_age', y='log_price',kind='hex')"
      ]
    },
    {
      "cell_type": "markdown",
      "metadata": {
        "id": "bvLzSN6Gy3Xb"
      },
      "source": [
        "## 4. (Optional) From your search results, crawl to the links and extract more information about every listing in your original dataframe. Wrangle and do some EDA."
      ]
    },
    {
      "cell_type": "markdown",
      "metadata": {
        "id": "dd00T888y3Xa"
      },
      "source": [
        "The final thing we want to do is go from scraping a single page to crawling around.\n",
        "\n",
        "The idea here is that every web page is connected to some other page. By extracting links as we move from page to page, we can create a web crawler that wanders around for us, gathering information of interest.\n",
        "\n",
        "In this case, we want to use the search results to then visit each individual page for each listing. Since we saved the links to the web pages in the previous scrape, we can now simply for-loop over that column in the dataframe, visiting the page listing for each of the cars in the search results:"
      ]
    },
    {
      "cell_type": "code",
      "execution_count": null,
      "metadata": {
        "id": "gah68Z75y3Xa"
      },
      "outputs": [],
      "source": [
        "import time # Time delays\n",
        "import random # Random numbers\n",
        "\n",
        "links = df['link']\n",
        "data = []\n",
        "for link in links: # about 3 minutes\n",
        "    time.sleep(random.randint(1, 3)) # Random delays\n",
        "    raw = requests.get(link,headers=header) # Get page\n",
        "    bsObj = soup(raw.content,'html.parser') # Parse the html\n",
        "    #\n",
        "    try:\n",
        "        year_post = bsObj.find(class_='attr important').find(class_ = 'valu year').get_text()\n",
        "    except:\n",
        "        year_post = np.nan\n",
        "    #\n",
        "    try:\n",
        "        condition = bsObj.find(class_='attr condition').find(href=True).get_text()\n",
        "    except:\n",
        "        condition = 'missing'\n",
        "    #\n",
        "    try:\n",
        "        cylinders = bsObj.find(class_='attr auto_cylinders').find(class_ = 'valu').get_text()\n",
        "        cylinders = cylinders.replace('\\n','')\n",
        "    except:\n",
        "        cylinders = 'missing'\n",
        "    #\n",
        "    try:\n",
        "        drivetrain = bsObj.find(class_='attr auto_drivetrain').find(href=True).get_text()\n",
        "    except:\n",
        "        drivetrain = 'missing'\n",
        "    #\n",
        "    try:\n",
        "        fuel = bsObj.find(class_='attr auto_fuel_type').find(href = True).get_text()\n",
        "    except:\n",
        "        fuel = 'missing'\n",
        "    #\n",
        "    try:\n",
        "        miles = bsObj.find(class_='attr auto_miles').find(class_ = 'valu').get_text()\n",
        "    except:\n",
        "        miles = np.nan\n",
        "    #\n",
        "    try:\n",
        "        color = bsObj.find(class_='attr auto_paint').find(href=True).get_text()\n",
        "    except:\n",
        "        color='missing'\n",
        "    #\n",
        "    try:\n",
        "        title = bsObj.find(class_='attr auto_title_status').find(href=True).get_text()\n",
        "    except:\n",
        "        title='missing'\n",
        "    #\n",
        "    try:\n",
        "        transmission = bsObj.find(class_='attr auto_transmission').find(href=True).get_text()\n",
        "    except:\n",
        "        transmission = 'missing'\n",
        "    #\n",
        "    try:\n",
        "        bodytype = bsObj.find(class_='attr auto_bodytype').find(href=True).get_text()\n",
        "    except:\n",
        "        bodytype = 'missing'\n",
        "    #\n",
        "    text = bsObj.find(id='postingbody').get_text()\n",
        "    text = text.replace('\\n','')\n",
        "    text = text.replace('QR Code Link to This Post','')\n",
        "    record = {'title':title,\n",
        "              'year_post':year_post,\n",
        "              'condition':condition,\n",
        "              'cylinders':cylinders,\n",
        "              'drivetrain':drivetrain,\n",
        "              'fuel':fuel,\n",
        "              'miles':miles,\n",
        "              'color':color,\n",
        "              'title':'title',\n",
        "              'transmission':transmission,\n",
        "              'bodytype':bodytype,\n",
        "              'text':text,}\n",
        "    data.append(record)"
      ]
    },
    {
      "cell_type": "markdown",
      "metadata": {
        "id": "ro7H8V54y3Xb"
      },
      "source": [
        "What are the new features here?\n",
        "\n",
        "First, we don't want to overwhelm the servers, so we put a small delay between each request of a listing, `time.sleep(random.randint(1, 3))`. This waits a random amount of time between 1 and 3 seconds to avoid overwhelming their server.\n",
        "\n",
        "Second, we use the try/except block. This is a useful control structure in general, but especially for web scraping. Python tries the statements under `try:`, and if it fails, executes the steps under `except:`. This can happen, in this case, with missing data, which crashes the crawler. Instead, we put our missing codes into our dataframe right away.\n",
        "\n",
        "Third, we used `.find().find().get_text()` to find the data we're looking for. In general, the structure of mark-up langauges like HTML and XML makes it possible to \"drill down\" into their entries and extract the information of interest. This exploitation of mark-up languages could be the subject of a whole course on procuring data from the web."
      ]
    },
    {
      "cell_type": "markdown",
      "metadata": {
        "id": "UrI6hrL6y3Xb"
      },
      "source": [
        "With the data scraped, we can make a new dataframe, combine it with the old one using `pd.concat`, and do some wrangling to clean the data up:"
      ]
    },
    {
      "cell_type": "code",
      "execution_count": null,
      "metadata": {
        "id": "SDM-sfRay3Xb"
      },
      "outputs": [],
      "source": [
        "new_df = pd.DataFrame.from_dict(data)\n",
        "new_df.head()\n",
        "\n",
        "df = pd.concat([df,new_df],axis=1) # combine data frames\n",
        "df.head()\n",
        "\n",
        "df['miles'] = df['miles'].str.replace(',','')\n",
        "df['miles'] = pd.to_numeric(df['miles'],errors='coerce')\n",
        "\n",
        "df['year_post'] = df['year_post'].str.replace(',','')\n",
        "df['year_post'] = pd.to_numeric(df['year_post'],errors='coerce')\n",
        "df.to_csv('craiglist_cville_cars_long.csv')"
      ]
    }
  ],
  "metadata": {
    "kernelspec": {
      "display_name": "Python 3",
      "language": "python",
      "name": "python3"
    },
    "language_info": {
      "codemirror_mode": {
        "name": "ipython",
        "version": 3
      },
      "file_extension": ".py",
      "mimetype": "text/x-python",
      "name": "python",
      "nbconvert_exporter": "python",
      "pygments_lexer": "ipython3",
      "version": "3.10.12"
    },
    "colab": {
      "provenance": []
    }
  },
  "nbformat": 4,
  "nbformat_minor": 0
}